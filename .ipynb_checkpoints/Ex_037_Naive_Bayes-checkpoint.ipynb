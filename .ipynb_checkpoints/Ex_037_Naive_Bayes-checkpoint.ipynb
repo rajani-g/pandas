{
 "cells": [
  {
   "cell_type": "code",
   "execution_count": 2,
   "metadata": {
    "collapsed": true
   },
   "outputs": [],
   "source": [
    "import numpy as np\n",
    "import pandas as pd\n",
    "\n",
    "import urllib \n",
    "\n",
    "import sklearn\n",
    "from sklearn.naive_bayes import BernoulliNB\n",
    "from sklearn.naive_bayes import GaussianNB\n",
    "from sklearn.naive_bayes import MultinomialNB\n",
    "\n",
    "from sklearn.cross_validation import train_test_split\n",
    "from sklearn.metrics import accuracy_score\n"
   ]
  },
  {
   "cell_type": "code",
   "execution_count": 7,
   "metadata": {},
   "outputs": [
    {
     "data": {
      "text/plain": [
       "array([[  0.00000000e+00,   6.40000000e-01,   6.40000000e-01, ...,\n",
       "          6.10000000e+01,   2.78000000e+02,   1.00000000e+00],\n",
       "       [  2.10000000e-01,   2.80000000e-01,   5.00000000e-01, ...,\n",
       "          1.01000000e+02,   1.02800000e+03,   1.00000000e+00],\n",
       "       [  6.00000000e-02,   0.00000000e+00,   7.10000000e-01, ...,\n",
       "          4.85000000e+02,   2.25900000e+03,   1.00000000e+00],\n",
       "       ..., \n",
       "       [  3.00000000e-01,   0.00000000e+00,   3.00000000e-01, ...,\n",
       "          6.00000000e+00,   1.18000000e+02,   0.00000000e+00],\n",
       "       [  9.60000000e-01,   0.00000000e+00,   0.00000000e+00, ...,\n",
       "          5.00000000e+00,   7.80000000e+01,   0.00000000e+00],\n",
       "       [  0.00000000e+00,   0.00000000e+00,   6.50000000e-01, ...,\n",
       "          5.00000000e+00,   4.00000000e+01,   0.00000000e+00]])"
      ]
     },
     "execution_count": 7,
     "metadata": {},
     "output_type": "execute_result"
    }
   ],
   "source": [
    "# Import data\n",
    "url = \"https://archive.ics.uci.edu/ml/machine-learning-databases/spambase/spambase.data\"\n",
    "raw_data = urllib.urlopen(url)\n",
    "raw_data\n",
    "dataset = np.loadtxt(raw_data,delimiter=',')\n",
    "dataset"
   ]
  },
  {
   "cell_type": "code",
   "execution_count": 11,
   "metadata": {},
   "outputs": [],
   "source": [
    "# Divide features and target\n",
    "X = dataset[:,0:48]\n",
    "\n",
    "y = dataset[:,-1]"
   ]
  },
  {
   "cell_type": "code",
   "execution_count": 12,
   "metadata": {},
   "outputs": [],
   "source": [
    "# Divide your train and test data\n",
    "X_train,X_test,y_train,y_test = train_test_split(X,y,test_size = .33,random_state=17)"
   ]
  },
  {
   "cell_type": "code",
   "execution_count": 13,
   "metadata": {},
   "outputs": [
    {
     "name": "stdout",
     "output_type": "stream",
     "text": [
      "BernoulliNB(alpha=1.0, binarize=True, class_prior=None, fit_prior=True)\n"
     ]
    }
   ],
   "source": [
    "# Applying all types of Naive bayes models ,fitting traing data,predicting test data and comparing predicted data results with \n",
    "# actual test data\n",
    "BernNb = BernoulliNB(binarize=True)\n",
    "BernNb.fit(X_train,y_train)\n",
    "print(BernNb)"
   ]
  },
  {
   "cell_type": "code",
   "execution_count": 14,
   "metadata": {
    "collapsed": true
   },
   "outputs": [],
   "source": [
    "y_expect = y_test\n",
    "y_pred = BernNb.predict(X_test)"
   ]
  },
  {
   "cell_type": "code",
   "execution_count": 15,
   "metadata": {},
   "outputs": [
    {
     "name": "stdout",
     "output_type": "stream",
     "text": [
      "0.855826201448\n"
     ]
    }
   ],
   "source": [
    "print(accuracy_score(y_expect,y_pred))"
   ]
  },
  {
   "cell_type": "code",
   "execution_count": 16,
   "metadata": {},
   "outputs": [
    {
     "name": "stdout",
     "output_type": "stream",
     "text": [
      "MultinomialNB(alpha=1.0, class_prior=None, fit_prior=True)\n"
     ]
    }
   ],
   "source": [
    "MultiNB = MultinomialNB()\n",
    "MultiNB.fit(X_train,y_train)\n",
    "print(MultiNB)"
   ]
  },
  {
   "cell_type": "code",
   "execution_count": 18,
   "metadata": {},
   "outputs": [],
   "source": [
    "y_pred = MultiNB.predict(X_test)"
   ]
  },
  {
   "cell_type": "code",
   "execution_count": 19,
   "metadata": {},
   "outputs": [
    {
     "name": "stdout",
     "output_type": "stream",
     "text": [
      "0.873601053325\n"
     ]
    }
   ],
   "source": [
    "print(accuracy_score(y_expect,y_pred))"
   ]
  },
  {
   "cell_type": "code",
   "execution_count": 20,
   "metadata": {},
   "outputs": [
    {
     "name": "stdout",
     "output_type": "stream",
     "text": [
      "GaussianNB(priors=None)\n"
     ]
    }
   ],
   "source": [
    "GausNB = GaussianNB()\n",
    "GausNB.fit(X_train,y_train)\n",
    "print(GausNB)"
   ]
  },
  {
   "cell_type": "code",
   "execution_count": 23,
   "metadata": {},
   "outputs": [
    {
     "name": "stdout",
     "output_type": "stream",
     "text": [
      "0.813034891376\n"
     ]
    }
   ],
   "source": [
    "y_pred = GausNB.predict(X_test)\n",
    "print(accuracy_score(y_expect,y_pred))"
   ]
  },
  {
   "cell_type": "code",
   "execution_count": 26,
   "metadata": {},
   "outputs": [
    {
     "name": "stdout",
     "output_type": "stream",
     "text": [
      "BernoulliNB(alpha=1.0, binarize=0.1, class_prior=None, fit_prior=True)\n",
      "0.895325872284\n"
     ]
    }
   ],
   "source": [
    "BernNb = BernoulliNB(binarize=0.1)\n",
    "BernNb.fit(X_train,y_train)\n",
    "print(BernNb)\n",
    "y_expect = y_test\n",
    "y_pred = BernNb.predict(X_test)\n",
    "print(accuracy_score(y_expect,y_pred))"
   ]
  },
  {
   "cell_type": "code",
   "execution_count": null,
   "metadata": {
    "collapsed": true
   },
   "outputs": [],
   "source": []
  }
 ],
 "metadata": {
  "kernelspec": {
   "display_name": "Python 2",
   "language": "python",
   "name": "python2"
  },
  "language_info": {
   "codemirror_mode": {
    "name": "ipython",
    "version": 2
   },
   "file_extension": ".py",
   "mimetype": "text/x-python",
   "name": "python",
   "nbconvert_exporter": "python",
   "pygments_lexer": "ipython2",
   "version": "2.7.13"
  }
 },
 "nbformat": 4,
 "nbformat_minor": 2
}
